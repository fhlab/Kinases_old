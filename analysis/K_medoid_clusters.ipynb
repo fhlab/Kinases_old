{
 "cells": [
  {
   "cell_type": "code",
   "execution_count": 1,
   "metadata": {},
   "outputs": [],
   "source": [
    "# Perform the initialization and imports\n",
    "import sys\n",
    "import pickle\n",
    "import re\n",
    "import os\n",
    "import csv\n",
    "import argparse\n",
    "import math\n",
    "import pprint\n",
    "\n",
    "from string import ascii_lowercase\n",
    "from collections import Counter, defaultdict\n",
    "\n",
    "import pandas as pd\n",
    "import numpy as np\n",
    "import matplotlib.pyplot as plt\n",
    "import seaborn as sns\n",
    "\n",
    "from Bio import SeqIO, AlignIO\n",
    "from Bio.SeqRecord import SeqRecord\n",
    "from Bio.Alphabet import IUPAC\n",
    "from Bio.Seq import Seq\n",
    "from Bio.Emboss.Applications import NeedleallCommandline\n",
    "\n",
    "# Demand Python 3.\n",
    "if sys.version_info[0] < 3:\n",
    "    print(\"Python 3 is required, but you are using Python %i.%i.%i\") % (\n",
    "        sys.version_info[0], sys.version_info[1], sys.version_info[2])\n",
    "    sys.exit(1)\n",
    "    \n",
    "# Retrieve the specific functions from ind and proteins.py\n",
    "indels_path=\"/home/maya/InDelScanner\"  # /PATH/TO/InDelScanner\n",
    "if indels_path not in sys.path:\n",
    "    sys.path.append(indels_path)\n",
    "#from indels.ind import trim_read, findEnds, endMatch, findGap, gapAlign\n",
    "\n",
    "from ipynb.fs.defs.Library_diversity import convert_variant_to_dict\n",
    "\n",
    "os.chdir(\"/mnt/c/Users/Maya/Dropbox/mek_results\")\n",
    "\n",
    "with open('Remkes_protein.p', 'rb') as f:\n",
    "    all_ref = pickle.load(f)\n",
    "with open('Remkes_protein_low.p', 'rb') as f:\n",
    "    low = pickle.load(f)\n",
    "\n",
    "all_ref['mek']['low-v2'] = low['mek']['low-v2']\n",
    "\n",
    "mek = {}\n",
    "for fraction in ['high', 'med']:\n",
    "    mek[fraction] = Counter(all_ref['mek'][fraction])\n",
    "mek['low-t'] = Counter(all_ref['mek']['low']) + Counter(all_ref['mek']['low-v2'])"
   ]
  },
  {
   "cell_type": "code",
   "execution_count": 2,
   "metadata": {},
   "outputs": [],
   "source": [
    "# Set general restrictions stemming from SpliMLib library design\n",
    "aa_2 = ['A', 'Δ']\n",
    "aa_12 = ['A','G','P','Y','D','K','M','V','I','L','F','W']\n",
    "aa_13 = aa_12 +  ['Δ']\n",
    "pos_aa = {'6': aa_12, '9': aa_12, '11': aa_12, '13': aa_12, '7a': aa_13, '8a': aa_2}"
   ]
  },
  {
   "cell_type": "code",
   "execution_count": 3,
   "metadata": {},
   "outputs": [],
   "source": [
    "df_all = pd.DataFrame.from_dict(mek).fillna(0).sort_values(by=['high', 'med', 'low-t'], ascending=False).astype(int)\n",
    "df_50p = df_all.loc[(df_all['high'] >= 50) & ((df_all['high']+df_all['med']) > 2*df_all['low-t'])]\n",
    "df_20to50 = df_all.loc[(df_all['high'].isin(range(10,50))) & \n",
    "                       (df_all['high'] > df_all['med']) & \n",
    "                       ((df_all['high']+df_all['med']) > 5*df_all['low-t']) ]\n",
    "\n",
    "df_pos = df_50p.append(df_20to50)\n",
    "pos = df_pos.to_dict()"
   ]
  },
  {
   "cell_type": "markdown",
   "metadata": {},
   "source": [
    "## Clustering: k-medoids and hiearchical\n",
    "\n",
    "In order to perform hiearchical clustering, I need a dataframe where each column represents the AA present at one randomised position. Then, each column is a categorical variable and the columns can be compared with Gower dissimilarity, followed by K-medioid clustering or hiearchical clustering.\n",
    "\n",
    "https://healthcare.ai/clustering-non-continuous-variables/\n",
    "\n",
    "https://www.thinkdatascience.com/post/2019-12-16-introducing-python-package-gower/\n",
    "\n",
    "https://www.researchgate.net/publication/272351873_NumPy_SciPy_Recipes_for_Data_Science_k-Medoids_Clustering"
   ]
  },
  {
   "cell_type": "code",
   "execution_count": 4,
   "metadata": {},
   "outputs": [],
   "source": [
    "import gower\n",
    "from scipy.cluster.hierarchy import linkage, fcluster, dendrogram"
   ]
  },
  {
   "cell_type": "code",
   "execution_count": 5,
   "metadata": {},
   "outputs": [],
   "source": [
    "active_ls = df_pos.index.tolist()\n",
    "active = {short : convert_variant_to_dict(short) for short in active_ls}"
   ]
  },
  {
   "cell_type": "markdown",
   "metadata": {},
   "source": []
  },
  {
   "cell_type": "code",
   "execution_count": 6,
   "metadata": {},
   "outputs": [],
   "source": [
    "valid_pos = ['6', '7a', '8a', '9', '11', '13']\n",
    "\n",
    "data = {}\n",
    "for short, m_to_pos in active.items():\n",
    "    if len(m_to_pos) != len(valid_pos):\n",
    "        continue\n",
    "    else:\n",
    "        data[short] = [m_to_pos[i] for i in valid_pos]\n",
    "\n",
    "factors = pd.DataFrame.from_dict(data, orient='index', columns=valid_pos).reset_index(drop=False)"
   ]
  },
  {
   "cell_type": "code",
   "execution_count": 7,
   "metadata": {},
   "outputs": [
    {
     "data": {
      "text/html": [
       "<div>\n",
       "<style scoped>\n",
       "    .dataframe tbody tr th:only-of-type {\n",
       "        vertical-align: middle;\n",
       "    }\n",
       "\n",
       "    .dataframe tbody tr th {\n",
       "        vertical-align: top;\n",
       "    }\n",
       "\n",
       "    .dataframe thead th {\n",
       "        text-align: right;\n",
       "    }\n",
       "</style>\n",
       "<table border=\"1\" class=\"dataframe\">\n",
       "  <thead>\n",
       "    <tr style=\"text-align: right;\">\n",
       "      <th></th>\n",
       "      <th>index</th>\n",
       "      <th>6</th>\n",
       "      <th>7a</th>\n",
       "      <th>8a</th>\n",
       "      <th>9</th>\n",
       "      <th>11</th>\n",
       "      <th>13</th>\n",
       "    </tr>\n",
       "  </thead>\n",
       "  <tbody>\n",
       "    <tr>\n",
       "      <th>0</th>\n",
       "      <td>6L/7aI/8aA/9L/11F/13M</td>\n",
       "      <td>L</td>\n",
       "      <td>I</td>\n",
       "      <td>A</td>\n",
       "      <td>L</td>\n",
       "      <td>F</td>\n",
       "      <td>M</td>\n",
       "    </tr>\n",
       "    <tr>\n",
       "      <th>1</th>\n",
       "      <td>6F/7aP/9W/11L/13M</td>\n",
       "      <td>F</td>\n",
       "      <td>P</td>\n",
       "      <td>Δ</td>\n",
       "      <td>W</td>\n",
       "      <td>L</td>\n",
       "      <td>M</td>\n",
       "    </tr>\n",
       "    <tr>\n",
       "      <th>2</th>\n",
       "      <td>6L/7aF/9L/11I/13I</td>\n",
       "      <td>L</td>\n",
       "      <td>F</td>\n",
       "      <td>Δ</td>\n",
       "      <td>L</td>\n",
       "      <td>I</td>\n",
       "      <td>I</td>\n",
       "    </tr>\n",
       "    <tr>\n",
       "      <th>3</th>\n",
       "      <td>6A/7aI/8aA/9L/11L/13I</td>\n",
       "      <td>A</td>\n",
       "      <td>I</td>\n",
       "      <td>A</td>\n",
       "      <td>L</td>\n",
       "      <td>L</td>\n",
       "      <td>I</td>\n",
       "    </tr>\n",
       "    <tr>\n",
       "      <th>4</th>\n",
       "      <td>6W/7aI/9F/11L/13V</td>\n",
       "      <td>W</td>\n",
       "      <td>I</td>\n",
       "      <td>Δ</td>\n",
       "      <td>F</td>\n",
       "      <td>L</td>\n",
       "      <td>V</td>\n",
       "    </tr>\n",
       "  </tbody>\n",
       "</table>\n",
       "</div>"
      ],
      "text/plain": [
       "                   index  6 7a 8a  9 11 13\n",
       "0  6L/7aI/8aA/9L/11F/13M  L  I  A  L  F  M\n",
       "1      6F/7aP/9W/11L/13M  F  P  Δ  W  L  M\n",
       "2      6L/7aF/9L/11I/13I  L  F  Δ  L  I  I\n",
       "3  6A/7aI/8aA/9L/11L/13I  A  I  A  L  L  I\n",
       "4      6W/7aI/9F/11L/13V  W  I  Δ  F  L  V"
      ]
     },
     "execution_count": 7,
     "metadata": {},
     "output_type": "execute_result"
    }
   ],
   "source": [
    "factors.head()"
   ]
  },
  {
   "cell_type": "code",
   "execution_count": 8,
   "metadata": {},
   "outputs": [
    {
     "data": {
      "text/html": [
       "<div>\n",
       "<style scoped>\n",
       "    .dataframe tbody tr th:only-of-type {\n",
       "        vertical-align: middle;\n",
       "    }\n",
       "\n",
       "    .dataframe tbody tr th {\n",
       "        vertical-align: top;\n",
       "    }\n",
       "\n",
       "    .dataframe thead th {\n",
       "        text-align: right;\n",
       "    }\n",
       "</style>\n",
       "<table border=\"1\" class=\"dataframe\">\n",
       "  <thead>\n",
       "    <tr style=\"text-align: right;\">\n",
       "      <th></th>\n",
       "      <th>6</th>\n",
       "      <th>7a</th>\n",
       "      <th>8a</th>\n",
       "      <th>9</th>\n",
       "      <th>11</th>\n",
       "      <th>13</th>\n",
       "    </tr>\n",
       "  </thead>\n",
       "  <tbody>\n",
       "    <tr>\n",
       "      <th>0</th>\n",
       "      <td>L</td>\n",
       "      <td>I</td>\n",
       "      <td>A</td>\n",
       "      <td>L</td>\n",
       "      <td>F</td>\n",
       "      <td>M</td>\n",
       "    </tr>\n",
       "    <tr>\n",
       "      <th>1</th>\n",
       "      <td>F</td>\n",
       "      <td>P</td>\n",
       "      <td>Δ</td>\n",
       "      <td>W</td>\n",
       "      <td>L</td>\n",
       "      <td>M</td>\n",
       "    </tr>\n",
       "    <tr>\n",
       "      <th>2</th>\n",
       "      <td>L</td>\n",
       "      <td>F</td>\n",
       "      <td>Δ</td>\n",
       "      <td>L</td>\n",
       "      <td>I</td>\n",
       "      <td>I</td>\n",
       "    </tr>\n",
       "    <tr>\n",
       "      <th>3</th>\n",
       "      <td>A</td>\n",
       "      <td>I</td>\n",
       "      <td>A</td>\n",
       "      <td>L</td>\n",
       "      <td>L</td>\n",
       "      <td>I</td>\n",
       "    </tr>\n",
       "    <tr>\n",
       "      <th>4</th>\n",
       "      <td>W</td>\n",
       "      <td>I</td>\n",
       "      <td>Δ</td>\n",
       "      <td>F</td>\n",
       "      <td>L</td>\n",
       "      <td>V</td>\n",
       "    </tr>\n",
       "  </tbody>\n",
       "</table>\n",
       "</div>"
      ],
      "text/plain": [
       "   6 7a 8a  9 11 13\n",
       "0  L  I  A  L  F  M\n",
       "1  F  P  Δ  W  L  M\n",
       "2  L  F  Δ  L  I  I\n",
       "3  A  I  A  L  L  I\n",
       "4  W  I  Δ  F  L  V"
      ]
     },
     "execution_count": 8,
     "metadata": {},
     "output_type": "execute_result"
    }
   ],
   "source": [
    "factors.iloc[:, 1:].head()"
   ]
  },
  {
   "cell_type": "markdown",
   "metadata": {},
   "source": [
    "## The Gower Dissimilarity\n",
    "\n",
    "The Gower dissimilarity measure falls between 0 and 1, where 0 indicates that two elements are identical, and 1 that they are different for that factor. The scores for multiple factors are calculated as an average of all factors, with correction factors for missing values. In the case of this dataset, where there are no missing values and all data is categorical (where the Gower scoring essentially works out to Hamett distance), the scoring is a s follows:\n",
    "\n",
    "comparing two variants $i$ and $j$, with property columns $c$ (c ranges from 1 to 6, for six randomised positions), without missing values:\n",
    "\n",
    "$d_{(i,j)} = \\frac{\\sum_{c=1}^{6} \\delta_{i,j}}{6}$\n",
    "\n",
    "where $\\delta_{i,j} = 0$ if two variants have the same amino acid at that position, and 1 otherwise. Thus, this distance is equivalent to scaled Hamett distance, so that it ranges between 0 and 1. Finally, the matrix is symmetric across the diagonal."
   ]
  },
  {
   "cell_type": "code",
   "execution_count": 9,
   "metadata": {},
   "outputs": [],
   "source": [
    "# gower_matrix = gower.gower_matrix(factors.iloc[:, 1:])"
   ]
  },
  {
   "cell_type": "code",
   "execution_count": 10,
   "metadata": {},
   "outputs": [],
   "source": [
    "# np.savez_compressed('Full_gower_matrix.npz', gw=gower_matrix)"
   ]
  },
  {
   "cell_type": "code",
   "execution_count": 11,
   "metadata": {},
   "outputs": [],
   "source": [
    "gower_matrix = np.load('Full_gower_matrix.npz')['gw']"
   ]
  },
  {
   "cell_type": "code",
   "execution_count": 12,
   "metadata": {},
   "outputs": [
    {
     "data": {
      "text/plain": [
       "(32375, 32375)"
      ]
     },
     "execution_count": 12,
     "metadata": {},
     "output_type": "execute_result"
    }
   ],
   "source": [
    "gower_matrix.shape"
   ]
  },
  {
   "cell_type": "code",
   "execution_count": 13,
   "metadata": {},
   "outputs": [],
   "source": [
    "gower_df = pd.DataFrame(data=gower_matrix, index=factors.index, columns=list(factors.index))"
   ]
  },
  {
   "cell_type": "markdown",
   "metadata": {},
   "source": [
    "This pre-computed matrix can then be used to update medoids and re-calculate distances; the calculation of distances within a cluster is reduced to looking up the distances in the master matrix."
   ]
  },
  {
   "cell_type": "markdown",
   "metadata": {},
   "source": [
    "Hiearchical clustering turns out to be computationally infeasible, for now. K-medoids solves the computational issues by using a pre-computed matrix of distances between variants."
   ]
  },
  {
   "cell_type": "code",
   "execution_count": 14,
   "metadata": {},
   "outputs": [],
   "source": [
    "def kMedoids(D, k, tmax=100):\n",
    "    # determine dimensions of distance matrix D\n",
    "    m, n = D.shape\n",
    "    \n",
    "    # randomly initialize an array of k medoid indices\n",
    "    M = np.sort(np.random.choice(n, k))\n",
    "    \n",
    "    # create a copy of the array of medoid indices\n",
    "    Mnew = np.copy(M)\n",
    "    \n",
    "    # initialize a dictionary to represent clusters\n",
    "    C = {}\n",
    "    \n",
    "    for t in range(tmax): # t iterates over the convergence cycles\n",
    "        # determine clusters, i.e. arrays of data indices\n",
    "        J = np.argmin(D[:,M], axis=1)\n",
    "        for kappa in range(k):\n",
    "            C[kappa] = np.where(J==kappa)[0]\n",
    "        \n",
    "        # update cluster medoids\n",
    "        for kappa in range(k):\n",
    "            J = np.mean(D[np.ix_(C[kappa],C[kappa])],axis=1)\n",
    "            j = np.argmin(J)\n",
    "            Mnew[kappa] = C[kappa][j]\n",
    "            np.sort(Mnew)\n",
    "                \n",
    "        # check for convergence\n",
    "        if np.array_equal(M, Mnew):\n",
    "            print(k, t)\n",
    "            break\n",
    "                \n",
    "        M = np.copy(Mnew)\n",
    "    \n",
    "    else:\n",
    "        # final update of cluster memberships\n",
    "        print(k, t)\n",
    "        J = np.argmin(D[:,M], axis=1)\n",
    "        for kappa in range(k):\n",
    "            C[kappa] = np.where(J==kappa)[0]\n",
    "                \n",
    "    # return results\n",
    "    return M, C"
   ]
  },
  {
   "cell_type": "markdown",
   "metadata": {},
   "source": [
    "The output of this algorithm is a dictonary of clusters, such that each contains a list of row indices."
   ]
  },
  {
   "cell_type": "markdown",
   "metadata": {},
   "source": [
    "#### Plot clusters"
   ]
  },
  {
   "cell_type": "markdown",
   "metadata": {},
   "source": [
    "We also need a method for evaluating the choice of clusters (k), and visualise the resulting clusters with heatmaps.\n",
    "\n",
    "https://medium.com/analytics-vidhya/how-to-determine-the-optimal-k-for-k-means-708505d204eb\n",
    "\n",
    "Retrieving both the medoids and clusters is straightforwards, they can be passed as an array to iloc-based row slicer.\n",
    "\n",
    "#### Silhouette score"
   ]
  },
  {
   "cell_type": "code",
   "execution_count": 15,
   "metadata": {},
   "outputs": [],
   "source": [
    "def get_cluster_dfs(clusters):\n",
    "    cl_dfs = {}\n",
    "    for i in range(len(clusters)):\n",
    "        cl_dfs[i] = factors.iloc[clusters[i], :]\n",
    "    return cl_dfs\n",
    "\n",
    "\n",
    "def get_all_cluster_distances(clusters, matrix_df):\n",
    "    \"\"\"\n",
    "    Split the all x all distance matrix into separate matrices\n",
    "    rows = one cluster, first index\n",
    "    columns = other clurster, second index\n",
    "    \"\"\"\n",
    "    dist_dfs = {}\n",
    "    for i in range(len(clusters)):\n",
    "        dist_dfs[i] = {}\n",
    "        for j in range(len(clusters)):\n",
    "            dist_dfs[i][j] = matrix_df.iloc[clusters[i], clusters[j]]\n",
    "    return dist_dfs\n",
    "    \n",
    "def get_point_to_cluster_distance(clusters, dist_dfs):\n",
    "\n",
    "    # get the distances between all points in clusters L and all points in cluster M\n",
    "    dist_a = {}\n",
    "    for l in range(len(clusters)):\n",
    "        dist_a[l] = {}\n",
    "        k_cl_len = len(clusters[l])\n",
    "        for m in range(len(clusters)): \n",
    "            dist_a[l][m] = []\n",
    "            # if l == m, we are looking at self distances\n",
    "            if m == l:\n",
    "                self_clust_len = len(clusters[l])\n",
    "                for v in clusters[l]:\n",
    "                    # going over an array now\n",
    "                    # the v indexing will be the same within the cluster distance matrix\n",
    "                    dist_a[l][m].append(dist_dfs[l][m].loc[v].sum() / (self_clust_len-1))\n",
    "            else:\n",
    "                # cross-cluster distances now, between point in cluster L towards those in M\n",
    "                far_clust_len = len(clusters[m])\n",
    "                for v in clusters[l]:\n",
    "                    # going over an array now\n",
    "                    # the v indexing will be the same within the cluster distance matrix\n",
    "                    dist_a[l][m].append(dist_dfs[l][m].loc[v].sum() / (far_clust_len - 1))\n",
    "    \n",
    "    return dist_a"
   ]
  },
  {
   "cell_type": "code",
   "execution_count": 16,
   "metadata": {},
   "outputs": [],
   "source": [
    "def get_silhouette_score(clusters, d_self):\n",
    "    sil_scores = {}\n",
    "    all_clusters = list(clusters.keys())\n",
    "    \n",
    "    for i in all_clusters:\n",
    "        if len(clusters[i]) == 1:\n",
    "            sil_scores[i] = [0]\n",
    "        else:\n",
    "            sil_scores[i] = []\n",
    "            for v in range(len(clusters[i])):\n",
    "                a_v = d_self[i][i][v]\n",
    "                b_v = min([d_self[i][j][v] for j in all_clusters if j != i])\n",
    "                sil_scores[i].append((b_v - a_v )/ max(a_v, b_v))\n",
    "                \n",
    "    avg_sil_scores = {i : sum(sil_scores[i]) / len(sil_scores[i]) for i in all_clusters}\n",
    "    total_sil = sum(sum(sil_scores[i]) for i in all_clusters)\n",
    "    total_avg_sil = total_sil / sum(len(sil_scores[i]) for i in all_clusters)\n",
    "    \n",
    "    return sil_scores, avg_sil_scores, total_avg_sil"
   ]
  },
  {
   "cell_type": "code",
   "execution_count": 17,
   "metadata": {},
   "outputs": [],
   "source": [
    "def optimise_number_of_clusters(k_range, matrix_df, matrix, tmax):\n",
    "    clusters = {}\n",
    "    medoids = {}\n",
    "    silhouettes = {}\n",
    "    \n",
    "    for k in k_range:\n",
    "        medoids[k], clusters[k] = kMedoids(matrix, k, tmax)\n",
    "        dist_dfs = get_all_cluster_distances(clusters[k], matrix_df)\n",
    "        dist_a = get_point_to_cluster_distance(clusters[k], dist_dfs)\n",
    "        silhouettes[k] = get_silhouette_score(clusters[k], dist_a)\n",
    "    \n",
    "    return clusters, medoids, silhouettes"
   ]
  },
  {
   "cell_type": "code",
   "execution_count": null,
   "metadata": {},
   "outputs": [
    {
     "name": "stdout",
     "output_type": "stream",
     "text": [
      "2 2\n",
      "3 2\n",
      "4 1\n",
      "5 2\n",
      "8 1\n",
      "10 2\n",
      "13 2\n"
     ]
    }
   ],
   "source": [
    "k_range = [2,3,4,5,8,10,13,16,18,20]\n",
    "c1, m1, s1 = optimise_number_of_clusters(k_range, gower_df, gower_matrix, 25)"
   ]
  },
  {
   "cell_type": "markdown",
   "metadata": {},
   "source": [
    "https://www.ncbi.nlm.nih.gov/pmc/articles/PMC3848038/"
   ]
  },
  {
   "cell_type": "code",
   "execution_count": null,
   "metadata": {},
   "outputs": [],
   "source": [
    "avg_s = [s1[i][2] for i in k_range]\n",
    "\n",
    "plt.plot(initial_ks, avg_s)\n",
    "plt.show()"
   ]
  },
  {
   "cell_type": "markdown",
   "metadata": {},
   "source": [
    "It appears that a smaller number of clusters is better here. Therefore, let's run multiple repeats for 2-5 clusters."
   ]
  },
  {
   "cell_type": "code",
   "execution_count": null,
   "metadata": {},
   "outputs": [],
   "source": [
    "k_range = [2,3,4,5]\n",
    "c1, m1, s1 = optimise_number_of_clusters(k_range, gower_df, gower_matrix, 100)\n",
    "c2, m2, s2 = optimise_number_of_clusters(k_range, gower_df, gower_matrix, 100)\n",
    "c3, m3, s3 = optimise_number_of_clusters(k_range, gower_df, gower_matrix, 100)\n",
    "c4, m4, s4 = optimise_number_of_clusters(k_range, gower_df, gower_matrix, 100)\n",
    "c5, m5, s5 = optimise_number_of_clusters(k_range, gower_df, gower_matrix, 100)"
   ]
  },
  {
   "cell_type": "code",
   "execution_count": null,
   "metadata": {},
   "outputs": [],
   "source": []
  }
 ],
 "metadata": {
  "kernelspec": {
   "display_name": "Python 3",
   "language": "python",
   "name": "python3"
  },
  "language_info": {
   "codemirror_mode": {
    "name": "ipython",
    "version": 3
   },
   "file_extension": ".py",
   "mimetype": "text/x-python",
   "name": "python",
   "nbconvert_exporter": "python",
   "pygments_lexer": "ipython3",
   "version": "3.7.3"
  }
 },
 "nbformat": 4,
 "nbformat_minor": 2
}
